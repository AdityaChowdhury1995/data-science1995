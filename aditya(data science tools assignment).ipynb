{
 "cells": [
  {
   "cell_type": "markdown",
   "metadata": {},
   "source": [
    "<center>\n",
    "    <img src=\"https://cf-courses-data.s3.us.cloud-object-storage.appdomain.cloud/IBMDeveloperSkillsNetwork-DS0105EN-SkillsNetwork/labs/Module2/images/SN_web_lightmode.png\" width=\"300\" alt=\"cognitiveclass.ai logo\">\n",
    "</center>\n"
   ]
  },
  {
   "cell_type": "markdown",
   "metadata": {},
   "source": [
    "#### Add your code below following the instructions given in the course\n"
   ]
  },
  {
   "cell_type": "markdown",
   "metadata": {},
   "source": [
    "Exercise 2: Title - Data Science Tools Assignment using Jupyterlite"
   ]
  },
  {
   "cell_type": "markdown",
   "metadata": {},
   "source": [
    "Exercise 3: Introduction- In this Jupyterlite notebook datascience libraries,tools and arithmetic operations are summarized"
   ]
  },
  {
   "cell_type": "markdown",
   "metadata": {},
   "source": [
    "Exercise 4: Data Science languages - Python,R,Scala,SQL,Julia,Java,JaveScript,C\\C++,NLTK,Perl,Go,Swift,SAS,MATLAB"
   ]
  },
  {
   "cell_type": "markdown",
   "metadata": {},
   "source": [
    "Exercise 5: Data Science libraries - Pandas,Numpy,Matplotlib,Seaborn,Scikit learn,Keras,Tensorflow,Pytorch,VEGAS,BigDL,GGPLOT etc."
   ]
  },
  {
   "cell_type": "markdown",
   "metadata": {},
   "source": [
    "Exercise 6:Data Science Tools- Jupyter lab/notebook/lite, R-Studio, Spyder,KNIME,Orange,MySQL,Post gre SQL,Apache Cassandra\n",
    "Ceph,MongoDB,Apache CouchDB,hadoop,tableau,apache spark,ibm spss,keras,matplotlib,numpy,python,pytorch,scikit learn,scipy\n",
    "tensor flow,weka"
   ]
  },
  {
   "cell_type": "markdown",
   "metadata": {},
   "source": [
    "Exercise 7: Arithmetic expressions in python-\n",
    "\n",
    "1.)x + y Addition 2.) x – y Subtraction\n",
    "3.)x * y Multiplication 4.) x / y Division 5.) x // y Quotient 6.) x % y Remainder\n",
    "7.)x ** y Exponentiation"
   ]
  },
  {
   "cell_type": "code",
   "execution_count": 2,
   "metadata": {
    "tags": []
   },
   "outputs": [
    {
     "name": "stdin",
     "output_type": "stream",
     "text": [
      "Enter first number: 2\n",
      "Enter second number: 3\n"
     ]
    },
    {
     "name": "stdout",
     "output_type": "stream",
     "text": [
      "product is: 6.0\n",
      "sum is: 5.0\n"
     ]
    }
   ],
   "source": [
    "#Exercise 8:\n",
    "x=float(input('Enter first number:'))\n",
    "y=float(input('Enter second number:'))\n",
    "print(\"product is:\",x*y)\n",
    "print(\"sum is:\",x+y)"
   ]
  },
  {
   "cell_type": "code",
   "execution_count": 6,
   "metadata": {
    "tags": []
   },
   "outputs": [
    {
     "name": "stdin",
     "output_type": "stream",
     "text": [
      "Enter minutes to convert: 6\n"
     ]
    },
    {
     "name": "stdout",
     "output_type": "stream",
     "text": [
      "Your converted time is: 360.0 seconds\n"
     ]
    }
   ],
   "source": [
    "#Exercise 9:\n",
    "s=float(input('Enter minutes to convert:'))\n",
    "print(\"Your converted time is:\",s*60,\"seconds\")\n"
   ]
  },
  {
   "cell_type": "markdown",
   "metadata": {},
   "source": [
    "Exercise 10: Objectives: 1.)To list libraries used in data science \n",
    "2.)To list languages used in data science \n",
    "3.)To list tools used in data science \n",
    "4.)To list arithmetic expresions used in python for data science \n",
    "5.)To create a code cell to convert minutes to seconds \n",
    "6.)To add and multiply to numbers \n",
    "7.)To create a markdown cell stating authors name \n",
    "8.)To share notebook through github \n",
    "9.)To take a screenshot of first notebook page \n",
    "10.)Create a markdown cell with title \n",
    "11.) Create a markdown cell with introduction \n",
    "12.)Create a markdown cell with list of objectives for this notebook"
   ]
  },
  {
   "cell_type": "markdown",
   "metadata": {
    "tags": []
   },
   "source": [
    "Exercise 11: Author- Aditya Chowdhury"
   ]
  },
  {
   "cell_type": "code",
   "execution_count": null,
   "metadata": {},
   "outputs": [],
   "source": []
  }
 ],
 "metadata": {
  "kernelspec": {
   "display_name": "Python",
   "language": "python",
   "name": "conda-env-python-py"
  },
  "language_info": {
   "codemirror_mode": {
    "name": "ipython",
    "version": 3
   },
   "file_extension": ".py",
   "mimetype": "text/x-python",
   "name": "python",
   "nbconvert_exporter": "python",
   "pygments_lexer": "ipython3",
   "version": "3.7.12"
  }
 },
 "nbformat": 4,
 "nbformat_minor": 4
}
